{
 "cells": [
  {
   "cell_type": "markdown",
   "metadata": {},
   "source": [
    "# Лабораторная работа №1"
   ]
  },
  {
   "cell_type": "markdown",
   "metadata": {},
   "source": [
    "## Фильтр Блума"
   ]
  },
  {
   "cell_type": "code",
   "execution_count": 129,
   "metadata": {},
   "outputs": [],
   "source": [
    "from bitarray import bitarray\n",
    "\n",
    "class BloomFilter(object):\n",
    "\n",
    "    def __init__(self, size, number_hash_functions):\n",
    "        self.size = size\n",
    "        self.number_hash_functions = number_hash_functions\n",
    "\n",
    "        self.bloom_filter = bitarray(self.size)\n",
    "        self.bloom_filter.setall(0)\n",
    "    \n",
    "    def __hash_djb2(self, s):\n",
    "        hash = 5381\n",
    "        for x in s:\n",
    "            hash = ((hash << 5) + hash) + ord(x)\n",
    "        return hash % self.size\n",
    "    \n",
    "    def __hash(self, item, K):\n",
    "        return self.__hash_djb2(str(K) + item)\n",
    "\n",
    "    def add_to_filter(self, item):\n",
    "        for i in range(self.number_hash_functions):\n",
    "            self.bloom_filter[self.__hash(item, i)] = 1\n",
    "\n",
    "    def check(self, item):\n",
    "        for i in range(self.number_hash_functions):\n",
    "            if self.bloom_filter[self.__hash(item, i)] == 0:\n",
    "                return True\n",
    "        return False\n",
    "\n",
    "    def union(self, other):\n",
    "        if self.size != other.size or self.number_hash_functions != other.number_hash_functions:\n",
    "            raise ValueError(\"Фильтры должны иметь одинаковый размер и количество хэш функций\")\n",
    "        new_filter = BloomFilter(self.size, self.number_hash_functions)\n",
    "        new_filter.bloom_filter = self.bloom_filter | other.bloom_filter\n",
    "        return new_filter\n",
    "\n",
    "    def intersection(self, other):\n",
    "        if self.size != other.size or self.number_hash_functions != other.number_hash_functions:\n",
    "            raise ValueError(\"Фильтры должны иметь одинаковый размер и количество хэш функций\")\n",
    "        new_filter = BloomFilter(self.size, self.number_hash_functions)\n",
    "        new_filter.bloom_filter = self.bloom_filter & other.bloom_filter\n",
    "        return new_filter "
   ]
  },
  {
   "cell_type": "markdown",
   "metadata": {},
   "source": [
    "### Нахождение процента ложноположительных срабатываний"
   ]
  },
  {
   "cell_type": "code",
   "execution_count": 130,
   "metadata": {},
   "outputs": [],
   "source": [
    "def generate_test_sample(n):\n",
    "    data_to_add = [f\"item_{i}\" for i in range(n)]\n",
    "    data_to_check = [f\"item_{i}\" for i in range(n//2, n+n//2)]\n",
    "    return data_to_add, data_to_check"
   ]
  },
  {
   "cell_type": "code",
   "execution_count": 131,
   "metadata": {},
   "outputs": [],
   "source": [
    "def test(m, k, data_to_add, data_to_check):\n",
    "    bf = BloomFilter(m, k)\n",
    "\n",
    "    for item in data_to_add:\n",
    "        bf.add_to_filter(item)\n",
    "\n",
    "    false_positives = 0\n",
    "    for item in data_to_check:\n",
    "        if not bf.check(item) and item not in data_to_add:\n",
    "            false_positives += 1\n",
    "\n",
    "    false_positive_rate = (false_positives / (m//2)) * 100\n",
    "    print(f\"Процент ложноположительных срабатываний: {false_positive_rate}%\")\n",
    "    return false_positive_rate"
   ]
  },
  {
   "cell_type": "code",
   "execution_count": 132,
   "metadata": {},
   "outputs": [],
   "source": [
    "data_to_add, data_to_check = generate_test_sample(1000)\n",
    "\n",
    "k = 2"
   ]
  },
  {
   "cell_type": "code",
   "execution_count": 133,
   "metadata": {},
   "outputs": [
    {
     "name": "stdout",
     "output_type": "stream",
     "text": [
      "Процент ложноположительных срабатываний: 0.4%\n"
     ]
    },
    {
     "data": {
      "text/plain": [
       "0.4"
      ]
     },
     "execution_count": 133,
     "metadata": {},
     "output_type": "execute_result"
    }
   ],
   "source": [
    "test(10000, k, data_to_add, data_to_check)"
   ]
  },
  {
   "cell_type": "markdown",
   "metadata": {},
   "source": [
    "### Нахождение зависимости между m и k"
   ]
  },
  {
   "cell_type": "code",
   "execution_count": 134,
   "metadata": {},
   "outputs": [],
   "source": [
    "m_values = [1000, 2000, 5000, 10000, 12000, 15000]\n",
    "k_values = [1, 2, 3, 5, 7, 10]\n",
    "results = []"
   ]
  },
  {
   "cell_type": "code",
   "execution_count": 135,
   "metadata": {},
   "outputs": [
    {
     "name": "stdout",
     "output_type": "stream",
     "text": [
      "Процент ложноположительных срабатываний: 68.8%\n",
      "Процент ложноположительных срабатываний: 88.2%\n",
      "Процент ложноположительных срабатываний: 100.0%\n",
      "Процент ложноположительных срабатываний: 100.0%\n",
      "Процент ложноположительных срабатываний: 100.0%\n",
      "Процент ложноположительных срабатываний: 100.0%\n",
      "Процент ложноположительных срабатываний: 18.099999999999998%\n",
      "Процент ложноположительных срабатываний: 15.8%\n",
      "Процент ложноположительных срабатываний: 20.3%\n",
      "Процент ложноположительных срабатываний: 47.8%\n",
      "Процент ложноположительных срабатываний: 50.0%\n",
      "Процент ложноположительных срабатываний: 50.0%\n",
      "Процент ложноположительных срабатываний: 0.64%\n",
      "Процент ложноположительных срабатываний: 1.3599999999999999%\n",
      "Процент ложноположительных срабатываний: 6.64%\n",
      "Процент ложноположительных срабатываний: 12.16%\n",
      "Процент ложноположительных срабатываний: 11.360000000000001%\n",
      "Процент ложноположительных срабатываний: 14.16%\n",
      "Процент ложноположительных срабатываний: 0.0%\n",
      "Процент ложноположительных срабатываний: 0.4%\n",
      "Процент ложноположительных срабатываний: 0.0%\n",
      "Процент ложноположительных срабатываний: 0.42%\n",
      "Процент ложноположительных срабатываний: 0.02%\n",
      "Процент ложноположительных срабатываний: 0.0%\n",
      "Процент ложноположительных срабатываний: 0.9333333333333335%\n",
      "Процент ложноположительных срабатываний: 0.0%\n",
      "Процент ложноположительных срабатываний: 0.0%\n",
      "Процент ложноположительных срабатываний: 0.0%\n",
      "Процент ложноположительных срабатываний: 0.0%\n",
      "Процент ложноположительных срабатываний: 0.0%\n",
      "Процент ложноположительных срабатываний: 0.0%\n",
      "Процент ложноположительных срабатываний: 0.0%\n",
      "Процент ложноположительных срабатываний: 0.0%\n",
      "Процент ложноположительных срабатываний: 0.0%\n",
      "Процент ложноположительных срабатываний: 0.0%\n",
      "Процент ложноположительных срабатываний: 0.0%\n"
     ]
    }
   ],
   "source": [
    "for m in m_values:\n",
    "    for k in k_values:\n",
    "        results.append((m, k, test(m, k, *generate_test_sample(1000))))"
   ]
  },
  {
   "cell_type": "code",
   "execution_count": 136,
   "metadata": {},
   "outputs": [
    {
     "name": "stdout",
     "output_type": "stream",
     "text": [
      "m\tk\tFalse Positive Rate (%)\n",
      "1000\t1\t68.80\n",
      "1000\t2\t88.20\n",
      "1000\t3\t100.00\n",
      "1000\t5\t100.00\n",
      "1000\t7\t100.00\n",
      "1000\t10\t100.00\n",
      "2000\t1\t18.10\n",
      "2000\t2\t15.80\n",
      "2000\t3\t20.30\n",
      "2000\t5\t47.80\n",
      "2000\t7\t50.00\n",
      "2000\t10\t50.00\n",
      "5000\t1\t0.64\n",
      "5000\t2\t1.36\n",
      "5000\t3\t6.64\n",
      "5000\t5\t12.16\n",
      "5000\t7\t11.36\n",
      "5000\t10\t14.16\n",
      "10000\t1\t0.00\n",
      "10000\t2\t0.40\n",
      "10000\t3\t0.00\n",
      "10000\t5\t0.42\n",
      "10000\t7\t0.02\n",
      "10000\t10\t0.00\n",
      "12000\t1\t0.93\n",
      "12000\t2\t0.00\n",
      "12000\t3\t0.00\n",
      "12000\t5\t0.00\n",
      "12000\t7\t0.00\n",
      "12000\t10\t0.00\n",
      "15000\t1\t0.00\n",
      "15000\t2\t0.00\n",
      "15000\t3\t0.00\n",
      "15000\t5\t0.00\n",
      "15000\t7\t0.00\n",
      "15000\t10\t0.00\n"
     ]
    },
    {
     "data": {
      "image/png": "[encoded data removed]",
      "text/plain": [
       "<Figure size 640x480 with 1 Axes>"
      ]
     },
     "metadata": {},
     "output_type": "display_data"
    }
   ],
   "source": [
    "import matplotlib.pyplot as plt\n",
    "\n",
    "print(\"m\\tk\\tFalse Positive Rate (%)\")\n",
    "for result in results:\n",
    "    print(f\"{result[0]}\\t{result[1]}\\t{result[2]:.2f}\")\n",
    "\n",
    "for k in k_values:\n",
    "    m_list = [result[0] for result in results if result[1] == k]\n",
    "    fp_rate_list = [result[2] for result in results if result[1] == k]\n",
    "    plt.plot(m_list, fp_rate_list, label=f'k={k}')\n",
    "\n",
    "plt.xlabel('Размер массива (m)')\n",
    "plt.ylabel('Процент ложноположительных срабатываний (%)')\n",
    "plt.title('Зависимость ложноположительных срабатываний от m и k')\n",
    "plt.legend()\n",
    "plt.grid(True)\n",
    "plt.show()"
   ]
  },
  {
   "cell_type": "markdown",
   "metadata": {},
   "source": [
    "### Многофакторный дисперсионный анализ"
   ]
  },
  {
   "cell_type": "code",
   "execution_count": 137,
   "metadata": {},
   "outputs": [
    {
     "name": "stdout",
     "output_type": "stream",
     "text": [
      "                sum_sq    df           F        PR(>F)\n",
      "C(m)      40772.251832   5.0  130.161764  4.596072e-17\n",
      "C(k)        878.936365   5.0    2.805926  3.815578e-02\n",
      "Residual   1566.214627  25.0         NaN           NaN\n"
     ]
    }
   ],
   "source": [
    "import pandas as pd\n",
    "import statsmodels.api as sm\n",
    "from statsmodels.formula.api import ols\n",
    "\n",
    "# Пример данных\n",
    "data = pd.DataFrame({\n",
    "    'm': [x[0] for x in results],\n",
    "    'k': [x[1] for x in results],\n",
    "    'false_positives':[x[2] for x in results]\n",
    "})\n",
    "\n",
    "# Многофакторный дисперсионный анализ\n",
    "model = ols('false_positives ~ C(m) + C(k)', data=data).fit()\n",
    "anova_table = sm.stats.anova_lm(model, typ=2)\n",
    "print(anova_table)"
   ]
  },
  {
   "cell_type": "markdown",
   "metadata": {},
   "source": [
    "### Реализация операций пересечения и объединения фильтров Блума"
   ]
  },
  {
   "cell_type": "code",
   "execution_count": 138,
   "metadata": {},
   "outputs": [
    {
     "data": {
      "text/plain": [
       "(bitarray('0011100000'), bitarray('0001110000'))"
      ]
     },
     "execution_count": 138,
     "metadata": {},
     "output_type": "execute_result"
    }
   ],
   "source": [
    "bf1 = BloomFilter(10, 1)\n",
    "bf2 = BloomFilter(10, 1)\n",
    "\n",
    "sample1 = [1, 2, 3]\n",
    "sample2 = [2, 3, 4]\n",
    "\n",
    "for x in sample1:\n",
    "    bf1.add_to_filter(f\"item_{x}\")\n",
    "\n",
    "for x in sample2:\n",
    "    bf2.add_to_filter(f\"item_{x}\")\n",
    "\n",
    "bf1.bloom_filter, bf2.bloom_filter"
   ]
  },
  {
   "cell_type": "code",
   "execution_count": 139,
   "metadata": {},
   "outputs": [
    {
     "data": {
      "text/plain": [
       "bitarray('0011110000')"
      ]
     },
     "execution_count": 139,
     "metadata": {},
     "output_type": "execute_result"
    }
   ],
   "source": [
    "bf1.union(bf2).bloom_filter"
   ]
  },
  {
   "cell_type": "code",
   "execution_count": 140,
   "metadata": {},
   "outputs": [
    {
     "data": {
      "text/plain": [
       "bitarray('0001100000')"
      ]
     },
     "execution_count": 140,
     "metadata": {},
     "output_type": "execute_result"
    }
   ],
   "source": [
    "bf1.intersection(bf2).bloom_filter"
   ]
  },
  {
   "cell_type": "markdown",
   "metadata": {},
   "source": [
    "## Фильтр Блума со счетом"
   ]
  },
  {
   "cell_type": "code",
   "execution_count": 1,
   "metadata": {},
   "outputs": [],
   "source": [
    "import mmh3\n",
    "\n",
    "class CountingBloomFilter:\n",
    "    def __init__(self, size, hash_count):\n",
    "        self.size = size\n",
    "        self.hash_count = hash_count\n",
    "        self.counters = [0] * size\n",
    "\n",
    "    def add(self, item):\n",
    "        for seed in range(self.hash_count):\n",
    "            index = mmh3.hash(item, seed) % self.size\n",
    "            self.counters[index] += 1\n",
    "\n",
    "    def remove(self, item):\n",
    "        for seed in range(self.hash_count):\n",
    "            index = mmh3.hash(item, seed) % self.size\n",
    "            if self.counters[index] > 0:\n",
    "                self.counters[index] -= 1\n",
    "\n",
    "    def check(self, item):\n",
    "        for seed in range(self.hash_count):\n",
    "            index = mmh3.hash(item, seed) % self.size\n",
    "            if self.counters[index] == 0:\n",
    "                return False\n",
    "        return True"
   ]
  },
  {
   "cell_type": "code",
   "execution_count": 4,
   "metadata": {},
   "outputs": [
    {
     "name": "stdout",
     "output_type": "stream",
     "text": [
      "Процент ложноположительных срабатываний: 10.80%\n"
     ]
    }
   ],
   "source": [
    "import random\n",
    "\n",
    "size = 1000  \n",
    "hash_count = 3  \n",
    "n = 200  \n",
    "test_elements = 1000  \n",
    "\n",
    "cbf = CountingBloomFilter(size, hash_count)\n",
    "\n",
    "added_elements = set()\n",
    "for _ in range(n):\n",
    "    element = str(random.randint(0, 1000000))\n",
    "    added_elements.add(element)\n",
    "    cbf.add(element)\n",
    "\n",
    "false_positives = 0\n",
    "for _ in range(test_elements):\n",
    "    element = str(random.randint(1000001, 2000000))  \n",
    "    if cbf.check(element):\n",
    "        false_positives += 1\n",
    "\n",
    "false_positive_rate = (false_positives / test_elements) * 100\n",
    "print(f\"Процент ложноположительных срабатываний: {false_positive_rate:.2f}%\")"
   ]
  },
  {
   "cell_type": "code",
   "execution_count": null,
   "metadata": {},
   "outputs": [],
   "source": []
  }
 ],
 "metadata": {
  "kernelspec": {
   "display_name": "venv",
   "language": "python",
   "name": "python3"
  },
  "language_info": {
   "codemirror_mode": {
    "name": "ipython",
    "version": 3
   },
   "file_extension": ".py",
   "mimetype": "text/x-python",
   "name": "python",
   "nbconvert_exporter": "python",
   "pygments_lexer": "ipython3",
   "version": "3.11.5"
  }
 },
 "nbformat": 4,
 "nbformat_minor": 2
}
